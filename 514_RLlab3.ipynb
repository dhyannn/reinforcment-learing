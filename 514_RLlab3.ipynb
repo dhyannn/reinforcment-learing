{
  "nbformat": 4,
  "nbformat_minor": 0,
  "metadata": {
    "colab": {
      "provenance": [],
      "authorship_tag": "ABX9TyOHwM0AcF01Cecr19DaCPKH",
      "include_colab_link": true
    },
    "kernelspec": {
      "name": "python3",
      "display_name": "Python 3"
    },
    "language_info": {
      "name": "python"
    }
  },
  "cells": [
    {
      "cell_type": "markdown",
      "metadata": {
        "id": "view-in-github",
        "colab_type": "text"
      },
      "source": [
        "<a href=\"https://colab.research.google.com/github/dhyannn/reinforcment-learing/blob/main/514_RLlab3.ipynb\" target=\"_parent\"><img src=\"https://colab.research.google.com/assets/colab-badge.svg\" alt=\"Open In Colab\"/></a>"
      ]
    },
    {
      "cell_type": "markdown",
      "source": [
        "Lab 3:  Implement Markov Decision Process (MDP) Simulation and Value Iteration\n",
        "\n"
      ],
      "metadata": {
        "id": "BsWm0Lhp6P1v"
      }
    },
    {
      "cell_type": "code",
      "execution_count": null,
      "metadata": {
        "id": "YdKAYm7Oz5GT"
      },
      "outputs": [],
      "source": [
        "import numpy as np"
      ]
    },
    {
      "cell_type": "code",
      "source": [
        "class MDP:\n",
        "    def __init__(self, states, actions, transition_probs, rewards, gamma):\n",
        "        self.states = states\n",
        "        self.actions = actions\n",
        "        self.transition_probs = transition_probs\n",
        "        self.rewards = rewards\n",
        "        self.gamma = gamma\n",
        "\n",
        "    def get_transition_prob(self, state, action, next_state):\n",
        "        return self.transition_probs[state][action].get(next_state, 0)\n",
        "\n",
        "    def get_reward(self, state, action):\n",
        "        return self.rewards.get(state, {}).get(action, 0)"
      ],
      "metadata": {
        "id": "r8CZim4r0BfO"
      },
      "execution_count": null,
      "outputs": []
    },
    {
      "cell_type": "code",
      "source": [
        "def value_iteration(mdp, threshold=1e-6):\n",
        "    # Initialize values arbitrarily, typically to zero\n",
        "    values = {state: 0 for state in mdp.states}\n",
        "    policy = {state: None for state in mdp.states}\n",
        "\n",
        "    while True:\n",
        "        max_delta = 0\n",
        "        new_values = values.copy()\n",
        "\n",
        "        for state in mdp.states:\n",
        "            max_value = float('-inf')\n",
        "            best_action = None\n",
        "\n",
        "            # Check all possible actions to find the best one\n",
        "            for action in mdp.actions:\n",
        "                # Calculate expected value of taking action 'a' in state 's'\n",
        "                action_value = sum(\n",
        "                    mdp.get_transition_prob(state, action, next_state) *\n",
        "                    (mdp.get_reward(state, action) + mdp.gamma * values[next_state])\n",
        "                    for next_state in mdp.states\n",
        "                )\n",
        "\n",
        "                # Find the action with the maximum value\n",
        "                if action_value > max_value:\n",
        "                    max_value = action_value\n",
        "                    best_action = action\n",
        "\n",
        "            # Update the value of the state\n",
        "            new_values[state] = max_value\n",
        "            policy[state] = best_action\n",
        "\n",
        "            # Calculate the difference for convergence check\n",
        "            max_delta = max(max_delta, abs(new_values[state] - values[state]))\n",
        "\n",
        "        # Update values for the next iteration\n",
        "        values = new_values\n",
        "\n",
        "        # Stop if the values have converged\n",
        "        if max_delta < threshold:\n",
        "            break\n",
        "\n",
        "    return policy, values"
      ],
      "metadata": {
        "id": "vb8mZAjr0GDQ"
      },
      "execution_count": null,
      "outputs": []
    },
    {
      "cell_type": "code",
      "source": [
        "\n",
        "states = ['A', 'B', 'C']\n",
        "actions = ['left', 'right']\n",
        "transition_probs = {\n",
        "    'A': {'left': {'A': 1.0}, 'right': {'B': 1.0}},\n",
        "    'B': {'left': {'A': 0.5, 'B': 0.5}, 'right': {'C': 1.0}},\n",
        "    'C': {'left': {'B': 1.0}, 'right': {'C': 1.0}}\n",
        "}\n",
        "rewards = {\n",
        "    'A': {'left': 0, 'right': 1},\n",
        "    'B': {'left': 0, 'right': 2},\n",
        "    'C': {'left': 0, 'right': 3}\n",
        "}\n",
        "gamma = 0.9\n",
        "\n",
        "# Create an MDP instance\n",
        "mdp = MDP(states, actions, transition_probs, rewards, gamma)\n",
        "\n",
        "# Run value iteration\n",
        "optimal_policy, optimal_values = value_iteration(mdp)\n",
        "\n",
        "print(\"Optimal Policy:\")\n",
        "for state, action in optimal_policy.items():\n",
        "    print(f\"  State {state}: {action}\")\n",
        "\n",
        "print(\"\\nOptimal Values:\")\n",
        "for state, value in optimal_values.items():\n",
        "    print(f\"  State {state}: {value}\")"
      ],
      "metadata": {
        "colab": {
          "base_uri": "https://localhost:8080/"
        },
        "id": "YOGVs0p70TpS",
        "outputId": "b7ab5bfb-3767-40a1-9851-8537fe562b02"
      },
      "execution_count": null,
      "outputs": [
        {
          "output_type": "stream",
          "name": "stdout",
          "text": [
            "Optimal Policy:\n",
            "  State A: right\n",
            "  State B: right\n",
            "  State C: right\n",
            "\n",
            "Optimal Values:\n",
            "  State A: 27.09999141381772\n",
            "  State B: 28.99999141381772\n",
            "  State C: 29.99999141381772\n"
          ]
        }
      ]
    },
    {
      "cell_type": "code",
      "source": [],
      "metadata": {
        "id": "DFMVeMHQ6STU"
      },
      "execution_count": null,
      "outputs": []
    },
    {
      "cell_type": "code",
      "source": [],
      "metadata": {
        "id": "sOVPe35eFFt7"
      },
      "execution_count": null,
      "outputs": []
    },
    {
      "cell_type": "code",
      "source": [
        "import numpy as np\n",
        "\n",
        "class MDP:\n",
        "    def __init__(self, states, actions, transition_prob, rewards, gamma=0.9):\n",
        "        \"\"\"\n",
        "        Initialize the MDP.\n",
        "\n",
        "        :param states: List of states.\n",
        "        :param actions: List of actions.\n",
        "        :param transition_prob: A dict where T[s][a][s'] gives the probability of transitioning from state s to s'.\n",
        "        :param rewards: A dict where R[s][a] gives the reward for taking action a in state s.\n",
        "        :param gamma: Discount factor (0 <= gamma <= 1).\n",
        "        \"\"\"\n",
        "        self.states = states\n",
        "        self.actions = actions\n",
        "        self.transition_prob = transition_prob\n",
        "        self.rewards = rewards\n",
        "        self.gamma = gamma\n",
        "\n",
        "    def value_iteration(self, epsilon=1e-6):\n",
        "        \"\"\"\n",
        "        Perform Value Iteration to compute optimal state-value function and policy.\n",
        "\n",
        "        :param epsilon: Convergence threshold for value iteration.\n",
        "        :return: Optimal values (V*) and optimal policy (pi*).\n",
        "        \"\"\"\n",
        "        V = np.zeros(len(self.states))  # Initialize value function to zero\n",
        "        policy = np.zeros(len(self.states), dtype=int)  # Initialize arbitrary policy\n",
        "\n",
        "        while True:\n",
        "            delta = 0  # Track maximum value change across states\n",
        "            for s in self.states:\n",
        "                # Compute the value for each action\n",
        "                action_values = []\n",
        "                for a in self.actions:\n",
        "                    value = sum(\n",
        "                        self.transition_prob[s][a][s_next] *\n",
        "                        (self.rewards[s][a] + self.gamma * V[s_next])\n",
        "                        for s_next in self.states\n",
        "                    )\n",
        "                    action_values.append(value)\n",
        "\n",
        "                # Update state value and policy\n",
        "                best_action_value = max(action_values)\n",
        "                delta = max(delta, abs(best_action_value - V[s]))  # Track convergence\n",
        "                V[s] = best_action_value\n",
        "                policy[s] = np.argmax(action_values)  # Update policy to best action\n",
        "\n",
        "            if delta < epsilon:  # Check convergence\n",
        "                break\n",
        "\n",
        "        return V, policy\n",
        "\n",
        "    def simulate(self, start_state, policy, steps=10):\n",
        "        \"\"\"\n",
        "        Simulate the MDP given a policy.\n",
        "\n",
        "        :param start_state: Initial state for the simulation.\n",
        "        :param policy: Optimal policy from value iteration.\n",
        "        :param steps: Number of steps to simulate.\n",
        "        \"\"\"\n",
        "        state = start_state\n",
        "        for _ in range(steps):\n",
        "            print(f\"State: {state}\")\n",
        "            action = policy[state]\n",
        "            print(f\"  Action: {action}\")\n",
        "\n",
        "            # Get the next state probabilistically\n",
        "            next_state_probs = self.transition_prob[state][action]\n",
        "            state = np.random.choice(self.states, p=next_state_probs)\n",
        "\n",
        "        print(f\"Final State: {state}\")\n",
        "\n",
        "# Example Grid-World MDP Setup\n",
        "states = [0, 1, 2, 3]  # Example states (could represent positions in a 2x2 grid)\n",
        "actions = [0, 1]  # 0: Move Left, 1: Move Right\n",
        "\n",
        "# Define Transition Probabilities T[s][a][s']\n",
        "transition_prob = {\n",
        "    0: {0: [1.0, 0.0, 0.0, 0.0], 1: [0.0, 1.0, 0.0, 0.0]},\n",
        "    1: {0: [1.0, 0.0, 0.0, 0.0], 1: [0.0, 0.0, 1.0, 0.0]},\n",
        "    2: {0: [0.0, 0.0, 1.0, 0.0], 1: [0.0, 0.0, 0.0, 1.0]},\n",
        "    3: {0: [0.0, 0.0, 1.0, 0.0], 1: [0.0, 0.0, 0.0, 1.0]},\n",
        "}\n",
        "\n",
        "# Define Rewards R[s][a]\n",
        "rewards = {\n",
        "    0: {0: 0, 1: 1},\n",
        "    1: {0: 0, 1: 1},\n",
        "    2: {0: 0, 1: 1},\n",
        "    3: {0: 0, 1: 0},  # Terminal state with no reward\n",
        "}\n",
        "\n",
        "# Create MDP and Run Value Iteration\n",
        "mdp = MDP(states, actions, transition_prob, rewards, gamma=0.9)\n",
        "V, policy = mdp.value_iteration()\n",
        "\n",
        "print(\"Optimal Values (V*):\", V)\n",
        "print(\"Optimal Policy (pi*):\", policy)\n",
        "\n",
        "# Simulate the MDP using the optimal policy\n",
        "print(\"\\nMDP Simulation:\")\n",
        "mdp.simulate(start_state=0, policy=policy, steps=5)\n"
      ],
      "metadata": {
        "colab": {
          "base_uri": "https://localhost:8080/"
        },
        "id": "Ls4kPapoFFrE",
        "outputId": "417ce8fd-890e-4d24-85b3-2f726eb9cf29"
      },
      "execution_count": null,
      "outputs": [
        {
          "output_type": "stream",
          "name": "stdout",
          "text": [
            "Optimal Values (V*): [6.16315401 5.73683861 5.26315475 4.73683927]\n",
            "Optimal Policy (pi*): [1 1 1 0]\n",
            "\n",
            "MDP Simulation:\n",
            "State: 0\n",
            "  Action: 1\n",
            "State: 1\n",
            "  Action: 1\n",
            "State: 2\n",
            "  Action: 1\n",
            "State: 3\n",
            "  Action: 0\n",
            "State: 2\n",
            "  Action: 1\n",
            "Final State: 3\n"
          ]
        }
      ]
    },
    {
      "cell_type": "code",
      "source": [],
      "metadata": {
        "id": "pjuEI-VrFGi6"
      },
      "execution_count": null,
      "outputs": []
    }
  ]
}