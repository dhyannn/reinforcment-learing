{
  "nbformat": 4,
  "nbformat_minor": 0,
  "metadata": {
    "colab": {
      "provenance": []
    },
    "kernelspec": {
      "name": "python3",
      "display_name": "Python 3"
    },
    "language_info": {
      "name": "python"
    }
  },
  "cells": [
    {
      "cell_type": "code",
      "execution_count": null,
      "metadata": {
        "colab": {
          "base_uri": "https://localhost:8080/"
        },
        "id": "tq_Dsz396xjD",
        "outputId": "c06f4555-389f-4e87-de5e-6bf8274dc382"
      },
      "outputs": [
        {
          "output_type": "stream",
          "name": "stdout",
          "text": [
            "Final estimated CTR for each ad slot:\n",
            "Top Banner: 0.0439 (True CTR: 0.0500)\n",
            "Sidebar: 0.0370 (True CTR: 0.0400)\n",
            "Footer: 0.0000 (True CTR: 0.0200)\n",
            "Pop-up: 0.0000 (True CTR: 0.0100)\n",
            "\n",
            "Total selections for each ad slot:\n",
            "Top Banner: 935\n",
            "Sidebar: 27\n",
            "Footer: 16\n",
            "Pop-up: 22\n",
            "\n",
            "Total Clicks: 42\n"
          ]
        }
      ],
      "source": [
        "import numpy as np\n",
        "import random\n",
        "import matplotlib.pyplot as plt\n",
        "\n",
        "# Define the ad slots\n",
        "ad_slots = [\"Top Banner\", \"Sidebar\", \"Footer\", \"Pop-up\"]\n",
        "\n",
        "# Initialize the number of times each ad slot has been selected and their respective rewards\n",
        "n_selected = [0] * len(ad_slots)  # Tracks how many times each ad slot is selected\n",
        "sum_rewards = [0] * len(ad_slots)  # Tracks total rewards (clicks) for each ad slot\n",
        "estimated_ctr = [0] * len(ad_slots)  # Estimated CTR (average rewards for each ad slot)\n",
        "\n",
        "# Parameters for the epsilon-greedy algorithm\n",
        "epsilon = 0.1  # 10% exploration, 90% exploitation\n",
        "n_impressions = 1000  # Total number of impressions to simulate\n",
        "\n",
        "true_ctr = [0.05, 0.04, 0.02, 0.01]  # Actual CTR for Top Banner, Sidebar, Footer, and Pop-up\n",
        "\n",
        "# Function to simulate whether a user clicks on an ad or not (click = 1, no click = 0)\n",
        "def simulate_click(ad_slot_idx):\n",
        "    return 1 if random.random() < true_ctr[ad_slot_idx] else 0\n",
        "\n",
        "# Total clicks for visualization\n",
        "total_clicks = 0\n",
        "click_history = []\n",
        "\n",
        "# Epsilon-Greedy Algorithm Simulation\n",
        "for i in range(n_impressions):\n",
        "    # Epsilon-greedy: Explore with probability epsilon, exploit with probability 1 - epsilon\n",
        "    if random.random() < epsilon:\n",
        "        # Exploration: randomly select an ad slot\n",
        "        ad_slot_idx = random.randint(0, len(ad_slots) - 1)\n",
        "    else:\n",
        "        # Exploitation: select the ad slot with the highest estimated CTR\n",
        "        ad_slot_idx = np.argmax(estimated_ctr)\n",
        "\n",
        "\n",
        "    reward = simulate_click(ad_slot_idx)\n",
        "\n",
        "    # Update the selected count and reward sum for the chosen ad slot\n",
        "    n_selected[ad_slot_idx] += 1\n",
        "    sum_rewards[ad_slot_idx] += reward\n",
        "\n",
        "    # Update the estimated CTR for the chosen ad slot\n",
        "    estimated_ctr[ad_slot_idx] = sum_rewards[ad_slot_idx] / n_selected[ad_slot_idx]\n",
        "\n",
        "    # Update total clicks and click history for visualization\n",
        "    total_clicks += reward\n",
        "    click_history.append(total_clicks)\n",
        "\n",
        "# Output the results after 1000 impressions\n",
        "print(\"Final estimated CTR for each ad slot:\")\n",
        "for i, ad_slot in enumerate(ad_slots):\n",
        "    print(f\"{ad_slot}: {estimated_ctr[i]:.4f} (True CTR: {true_ctr[i]:.4f})\")\n",
        "\n",
        "print(\"\\nTotal selections for each ad slot:\")\n",
        "for i, ad_slot in enumerate(ad_slots):\n",
        "    print(f\"{ad_slot}: {n_selected[i]}\")\n",
        "\n",
        "print(f\"\\nTotal Clicks: {total_clicks}\")"
      ]
    }
  ]
}