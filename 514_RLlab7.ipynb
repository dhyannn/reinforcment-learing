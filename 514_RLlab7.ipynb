{
  "nbformat": 4,
  "nbformat_minor": 0,
  "metadata": {
    "colab": {
      "provenance": [],
      "include_colab_link": true
    },
    "kernelspec": {
      "name": "python3",
      "display_name": "Python 3"
    },
    "language_info": {
      "name": "python"
    }
  },
  "cells": [
    {
      "cell_type": "markdown",
      "metadata": {
        "id": "view-in-github",
        "colab_type": "text"
      },
      "source": [
        "<a href=\"https://colab.research.google.com/github/dhyannn/reinforcment-learing/blob/main/514_RL_Lab7.ipynb\" target=\"_parent\"><img src=\"https://colab.research.google.com/assets/colab-badge.svg\" alt=\"Open In Colab\"/></a>"
      ]
    },
    {
      "cell_type": "markdown",
      "source": [
        "Bootstrapping in Reinforcement Learning (RL) is a method where the agent updates its estimate of how good a state (or action) is by combining:\n",
        "\n",
        "The reward it gets immediately (short-term result).\n",
        "The value it predicts for future states (long-term outcome)."
      ],
      "metadata": {
        "id": "Rw2aG7s4z8Eo"
      }
    },
    {
      "cell_type": "markdown",
      "source": [
        "The agent doesn’t wait to explore every possible route or calculate rewards for all steps upfront. Instead:\n",
        "\n",
        "It \"bootstraps\" from its current guess, using the current reward and its predictions for future states to improve its understanding step by step."
      ],
      "metadata": {
        "id": "oRykyuBB1aYA"
      }
    },
    {
      "cell_type": "code",
      "source": [
        "import numpy as np\n"
      ],
      "metadata": {
        "id": "XMBwehuvybvX"
      },
      "execution_count": null,
      "outputs": []
    },
    {
      "cell_type": "code",
      "source": [
        "grid_size = 4\n",
        "num_states = grid_size * grid_size\n",
        "gamma = 0.9  # Discount factor\n",
        "alpha = 0.1  # Learning rate\n"
      ],
      "metadata": {
        "id": "qMoPfD_BybdH"
      },
      "execution_count": null,
      "outputs": []
    },
    {
      "cell_type": "code",
      "source": [
        "# Actions: up, down, left, right\n",
        "actions = [(-1, 0), (1, 0), (0, -1), (0, 1)]  # (row change, column change)\n",
        "\n",
        "# Reward structure\n",
        "reward = np.zeros((grid_size, grid_size))\n",
        "reward[-1, -1] = 1  # Goal state reward"
      ],
      "metadata": {
        "id": "SrSmHtV-yg5q"
      },
      "execution_count": null,
      "outputs": []
    },
    {
      "cell_type": "code",
      "source": [
        "# Initialize state-value function\n",
        "V = np.zeros((grid_size, grid_size))\n",
        "\n",
        "def is_valid_state(row, col):\n",
        "    \"\"\"Check if the state is within the grid boundaries.\"\"\"\n",
        "    return 0 <= row < grid_size and 0 <= col < grid_size\n",
        "\n",
        "def take_action(state, action):\n",
        "    \"\"\"Take an action and return the next state and reward.\"\"\"\n",
        "    row, col = state\n",
        "    new_row, new_col = row + action[0], col + action[1]\n",
        "\n",
        "    if not is_valid_state(new_row, new_col):\n",
        "        return state, reward[row, col]  # Invalid move, stay in the same state\n",
        "\n",
        "    return (new_row, new_col), reward[new_row, new_col]\n"
      ],
      "metadata": {
        "id": "BL8pJwbKyj82"
      },
      "execution_count": null,
      "outputs": []
    },
    {
      "cell_type": "code",
      "source": [
        "for episode in range(50):  # Number of episodes\n",
        "    # Start at the top-left corner\n",
        "    state = (0, 0)\n",
        "\n",
        "    while state != (grid_size - 1, grid_size - 1):  # Until reaching the goal\n",
        "        # Randomly select an action\n",
        "        action = actions[np.random.choice(len(actions))]\n",
        "\n",
        "        # Take the action and observe the next state and reward\n",
        "        next_state, reward_obtained = take_action(state, action)\n",
        "\n",
        "        # Update the value function using bootstrapping (TD(0) update rule)\n",
        "        V[state] += alpha * (reward_obtained + gamma * V[next_state] - V[state])\n",
        "\n",
        "        # Move to the next state\n",
        "        state = next_state\n"
      ],
      "metadata": {
        "id": "6eeBLLkrynWX"
      },
      "execution_count": null,
      "outputs": []
    },
    {
      "cell_type": "code",
      "execution_count": null,
      "metadata": {
        "colab": {
          "base_uri": "https://localhost:8080/"
        },
        "id": "Skib-JlcxpWb",
        "outputId": "04ae67cf-96e7-43a7-feba-a6d569dd8871"
      },
      "outputs": [
        {
          "output_type": "stream",
          "name": "stdout",
          "text": [
            "Learned State-Value Function:\n",
            "[[0.05 0.06 0.09 0.12]\n",
            " [0.06 0.1  0.19 0.23]\n",
            " [0.08 0.17 0.34 0.55]\n",
            " [0.13 0.27 0.4  0.  ]]\n"
          ]
        }
      ],
      "source": [
        "print(\"Learned State-Value Function:\")\n",
        "print(np.round(V, 2))\n"
      ]
    },
    {
      "cell_type": "markdown",
      "source": [
        "The **state-value function** represents how \"good\" each state (or grid cell) is for the agent in terms of achieving its goal. Each number in the grid corresponds to the agent's learned estimate of the **expected total reward** it can achieve starting from that cell and following the optimal policy.\n",
        "\n",
        "### Breakdown of the Learned Values:\n",
        "1. **Small values (near the top-left)**:\n",
        "   - States with smaller values (e.g., `0.05` in the top-left corner) are far from the goal.\n",
        "   - The agent expects to collect a lower total reward from these states because it has to travel a longer distance to reach the goal.\n",
        "\n",
        "2. **Larger values (closer to the bottom-right)**:\n",
        "   - States with larger values (e.g., `0.55` in the bottom row near the goal) are close to the goal.\n",
        "   - The agent expects a higher total reward from these states because it’s easier to reach the goal quickly.\n",
        "\n",
        "3. **Goal state (bottom-right corner)**:\n",
        "   - The value is `0` because the agent receives an immediate reward for reaching the goal, and there are no future rewards beyond that point. It doesn't need to estimate anything further.\n",
        "\n",
        "### Key Observations:\n",
        "- The values **gradually increase as the agent gets closer to the goal**. This reflects the agent's learning process: the closer it is to the reward, the higher its confidence about achieving it.\n",
        "- The agent has learned the structure of the grid: states closer to the goal are more valuable, and this knowledge guides its future decisions."
      ],
      "metadata": {
        "id": "PyHiKN063QMq"
      }
    },
    {
      "cell_type": "code",
      "source": [
        "import matplotlib.pyplot as plt\n",
        "\n",
        "plt.imshow(V, cmap=\"coolwarm\", interpolation=\"nearest\")\n",
        "plt.colorbar(label=\"State Value\")\n",
        "plt.title(\"State-Value Function\")\n",
        "plt.show()\n"
      ],
      "metadata": {
        "colab": {
          "base_uri": "https://localhost:8080/",
          "height": 452
        },
        "id": "SPMpMmk2yXC7",
        "outputId": "6ae7a991-0cd5-40d7-a26b-505ba0bd69dc"
      },
      "execution_count": null,
      "outputs": [
        {
          "output_type": "display_data",
          "data": {
            "text/plain": [
              "<Figure size 640x480 with 2 Axes>"
            ],
            "image/png": "[encoded data removed]"
          },
          "metadata": {}
        }
      ]
    },
    {
      "cell_type": "markdown",
      "source": [
        "In the grid-world:\n",
        "\n",
        "Each cell represents a location.\n",
        "The agent updates the value of its current location by combining:\n",
        "The immediate reward (e.g., +1 for reaching the goal).\n",
        "\n",
        "The estimated value of the next cell it plans to move to.\n",
        "\n",
        "Over time, the agent learns which paths and locations are better by continuously improving its estimates using this approach."
      ],
      "metadata": {
        "id": "KFpTYLAV2eFA"
      }
    }
  ]
}
