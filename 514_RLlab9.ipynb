{
  "nbformat": 4,
  "nbformat_minor": 0,
  "metadata": {
    "colab": {
      "provenance": [],
      "include_colab_link": true
    },
    "kernelspec": {
      "name": "python3",
      "display_name": "Python 3"
    },
    "language_info": {
      "name": "python"
    }
  },
  "cells": [
    {
      "cell_type": "markdown",
      "metadata": {
        "id": "view-in-github",
        "colab_type": "text"
      },
      "source": [
        "<a href=\"https://colab.research.google.com/github/dhyannn/reinforcment-learing/blob/main/514_RLlab9.ipynb\" target=\"_parent\"><img src=\"https://colab.research.google.com/assets/colab-badge.svg\" alt=\"Open In Colab\"/></a>"
      ]
    },
    {
      "cell_type": "markdown",
      "source": [
        "Temporal-Difference (TD) learning is a method used in Reinforcement Learning to help an agent figure out how good it is to be in a certain state, based on its experiences."
      ],
      "metadata": {
        "id": "ykFXQ86FOs8w"
      }
    },
    {
      "cell_type": "code",
      "source": [
        "import numpy as np\n"
      ],
      "metadata": {
        "id": "rSHHHZJpOC3z"
      },
      "execution_count": null,
      "outputs": []
    },
    {
      "cell_type": "code",
      "source": [
        "\n",
        "class SimpleEnv:\n",
        "    def __init__(self, size=5):\n",
        "        self.size = size\n",
        "        self.states = np.arange(1, size + 1)\n",
        "        self.current_state = 1  # Start at state 1\n",
        "        self.terminal_state = size\n",
        "\n",
        "    def step(self, action):\n",
        "        \"\"\"\n",
        "        Take an action (always move forward by 1 in this environment).\n",
        "        Returns: next_state, reward, done\n",
        "        \"\"\"\n",
        "        if self.current_state == self.terminal_state:\n",
        "            return self.current_state, 0, True  # Terminal state, no reward\n",
        "\n",
        "        self.current_state += 1\n",
        "        reward = 1 if self.current_state == self.terminal_state else 0\n",
        "        done = self.current_state == self.terminal_state\n",
        "        return self.current_state, reward, done\n",
        "\n",
        "    def reset(self):\n",
        "        self.current_state = 1\n",
        "        return self.current_state"
      ],
      "metadata": {
        "id": "vLagwlM4OEn9"
      },
      "execution_count": null,
      "outputs": []
    },
    {
      "cell_type": "code",
      "source": [
        "def td_0(env, alpha=0.1, gamma=0.9, episodes=100):\n",
        "    state_values = np.zeros(env.size + 1)  # Initialize values for all states (0-indexed, state 0 unused)\n",
        "\n",
        "    for episode in range(episodes):\n",
        "        state = env.reset()\n",
        "        done = False\n",
        "\n",
        "        while not done:\n",
        "            next_state, reward, done = env.step(action=None)  # Action is fixed in this simple environment\n",
        "\n",
        "            td_target = reward + gamma * state_values[next_state]\n",
        "            td_error = td_target - state_values[state]\n",
        "            state_values[state] += alpha * td_error\n",
        "\n",
        "            state = next_state\n",
        "\n",
        "    return state_values[1:]  # Return values excluding the dummy state 0"
      ],
      "metadata": {
        "id": "XuD8MgAKOGhn"
      },
      "execution_count": null,
      "outputs": []
    },
    {
      "cell_type": "markdown",
      "source": [
        "### Key Ideas:\n",
        "\n",
        "1. **Learning by Doing**:\n",
        "   - The agent moves through an environment and collects rewards based on its actions.\n",
        "   - As it moves, it updates its beliefs (value estimates) about how good it is to be in each state.\n",
        "\n",
        "2. **Estimation on the Go**:\n",
        "   - Unlike methods that wait until the end of an episode to update values (e.g., Monte Carlo), TD updates the value estimates after every step.\n",
        "   - It combines:\n",
        "     - The reward received immediately.\n",
        "     - An estimate of the value of the next state.\n",
        "\n",
        "3. **Bootstrapping**:\n",
        "   - TD uses its own current guesses (value estimates) to improve its understanding.\n",
        "\n"
      ],
      "metadata": {
        "id": "ErLnDkKgOyo2"
      }
    },
    {
      "cell_type": "code",
      "source": [
        "# Simulate the environment\n",
        "env = SimpleEnv(size=5)\n",
        "state_values = td_0(env, alpha=0.1, gamma=0.9, episodes=500)\n",
        "\n",
        "# Display learned state values\n",
        "print(\"Learned State-Value Function:\", state_values)"
      ],
      "metadata": {
        "colab": {
          "base_uri": "https://localhost:8080/"
        },
        "id": "MpmS8DB2OXk7",
        "outputId": "0c54ef04-4896-4395-8bf2-d9d48ae2d0a1"
      },
      "execution_count": null,
      "outputs": [
        {
          "output_type": "stream",
          "name": "stdout",
          "text": [
            "Learned State-Value Function: [0.729 0.81  0.9   1.    0.   ]\n"
          ]
        }
      ]
    },
    {
      "cell_type": "markdown",
      "source": [
        "The learned state-value function **[0.729, 0.81, 0.9, 1.0, 0.0]** represents how valuable it is for an agent to be in each state based on its experience and the rewards it expects to receive in the future.\n",
        "\n",
        "1. **State 1 (0.729)**: The agent values being in this state moderately because it has learned that, starting here, it can earn a decent reward if it follows the best actions.\n",
        "\n",
        "2. **State 2 (0.81)**: This state is slightly better than State 1 because the agent expects a higher cumulative reward starting from here.\n",
        "\n",
        "3. **State 3 (0.9)**: The agent believes being here is even better, as it brings it closer to achieving higher rewards.\n",
        "\n",
        "4. **State 4 (1.0)**: This is the **best state** for the agent (likely a goal or terminal state), where the rewards are maximized.\n",
        "\n",
        "5. **State 5 (0.0)**: The agent assigns no value to this state, possibly because it’s a terminal state with no rewards beyond this point.\n"
      ],
      "metadata": {
        "id": "Kf59T6X7PMrF"
      }
    },
    {
      "cell_type": "markdown",
      "source": [
        "#Visualization"
      ],
      "metadata": {
        "id": "t-YtiuFzQm2j"
      }
    },
    {
      "cell_type": "code",
      "execution_count": null,
      "metadata": {
        "colab": {
          "base_uri": "https://localhost:8080/",
          "height": 472
        },
        "id": "uroz6ouSLVR1",
        "outputId": "b8b6e773-ee3e-463d-abcd-82657aaa776e"
      },
      "outputs": [
        {
          "output_type": "display_data",
          "data": {
            "text/plain": [
              "<Figure size 640x480 with 1 Axes>"
            ],
            "image/png": "[encoded data removed]"
          },
          "metadata": {}
        }
      ],
      "source": [
        "import matplotlib.pyplot as plt\n",
        "\n",
        "plt.plot(env.states, state_values, marker='o')\n",
        "plt.xlabel(\"States\")\n",
        "plt.ylabel(\"Value\")\n",
        "plt.title(\"Learned State-Value Function using TD(0)\")\n",
        "plt.grid()\n",
        "plt.show()"
      ]
    }
  ]
}