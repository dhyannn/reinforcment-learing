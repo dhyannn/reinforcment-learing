{
  "nbformat": 4,
  "nbformat_minor": 0,
  "metadata": {
    "colab": {
      "provenance": [],
      "include_colab_link": true
    },
    "kernelspec": {
      "name": "python3",
      "display_name": "Python 3"
    },
    "language_info": {
      "name": "python"
    }
  },
  "cells": [
    {
      "cell_type": "markdown",
      "metadata": {
        "id": "view-in-github",
        "colab_type": "text"
      },
      "source": [
        "<a href=\"https://colab.research.google.com/github/dhyannn/reinforcment-learing/blob/main/514_RLlab8.ipynb\" target=\"_parent\"><img src=\"https://colab.research.google.com/assets/colab-badge.svg\" alt=\"Open In Colab\"/></a>"
      ]
    },
    {
      "cell_type": "markdown",
      "source": [
        "Temporal Difference (TD) learning is a method in reinforcement learning where an agent learns the value of states (or actions) by bootstrapping — combining sampled rewards with estimated future values. It’s called TD(0) because it uses only the next state (no lookahead beyond one step).\n",
        "\n"
      ],
      "metadata": {
        "id": "gGHIjMvM-OEq"
      }
    },
    {
      "cell_type": "code",
      "source": [
        "import matplotlib\n",
        "import numpy as np\n",
        "import random\n",
        "import matplotlib.pyplot as plt\n"
      ],
      "metadata": {
        "id": "U1_eUe208JXY"
      },
      "execution_count": null,
      "outputs": []
    },
    {
      "cell_type": "code",
      "source": [
        "# Environment Setup\n",
        "num_states = 5\n",
        "states = list(range(1, num_states + 1))  # States numbered 1 to 5\n",
        "terminal_state = 5  # Terminal state\n",
        "rewards = {5: 1}  # Reward of 1 for reaching state 5"
      ],
      "metadata": {
        "id": "GU_lQBXz8Ksh"
      },
      "execution_count": null,
      "outputs": []
    },
    {
      "cell_type": "markdown",
      "source": [
        "parameters"
      ],
      "metadata": {
        "id": "qYaAeEFR8OB_"
      }
    },
    {
      "cell_type": "code",
      "source": [
        "gamma = 0.9  # Discount factor\n",
        "alpha = 0.1  # Learning rate\n",
        "num_episodes = 100  # Number of episodes"
      ],
      "metadata": {
        "id": "DkMGhdCR8Nc3"
      },
      "execution_count": null,
      "outputs": []
    },
    {
      "cell_type": "code",
      "source": [
        "state_values = np.zeros(num_states + 1)"
      ],
      "metadata": {
        "id": "9czEBAoC8TDB"
      },
      "execution_count": null,
      "outputs": []
    },
    {
      "cell_type": "code",
      "source": [
        "def take_action(state):\n",
        "    if state == 1:\n",
        "        return state + 1  # Can only move right\n",
        "    elif state == terminal_state:\n",
        "        return state  # Terminal state, no movement\n",
        "    else:\n",
        "        return state + random.choice([-1, 1])  # Move left or right\n",
        "\n",
        "# TD(0) Learning\n",
        "for episode in range(num_episodes):\n",
        "    state = random.choice(states[:-1])  # Start in a random non-terminal state\n",
        "\n",
        "    while state != terminal_state:\n",
        "        next_state = take_action(state)  # Take an action\n",
        "        reward = rewards.get(next_state, 0)  # Get reward (default 0 if not in rewards)\n",
        "\n",
        "        # TD(0) update\n",
        "        td_target = reward + gamma * state_values[next_state]\n",
        "        td_error = td_target - state_values[state]\n",
        "        state_values[state] += alpha * td_error\n",
        "\n",
        "        state = next_state  # Move to the next state\n"
      ],
      "metadata": {
        "id": "IfJjlr1w8S3k"
      },
      "execution_count": null,
      "outputs": []
    },
    {
      "cell_type": "markdown",
      "source": [
        "Goal: Learn how good each state is (its value) while moving through the environment.\n",
        "\n",
        "Update: Each time the agent moves from one state to another:\n",
        "Observe the immediate reward.\n",
        "Estimate the value of the next state.\n",
        "\n",
        "Use these two to update the value of the current state.\n",
        "Formula:\n",
        "𝑉\n",
        "(\n",
        "𝑠\n",
        ")\n",
        "←\n",
        "𝑉\n",
        "(\n",
        "𝑠\n",
        ")\n",
        "+\n",
        "𝛼\n",
        "(\n",
        "𝑅\n",
        "+\n",
        "𝛾\n",
        "⋅\n",
        "𝑉\n",
        "(\n",
        "𝑠\n",
        "′\n",
        ")\n",
        "−\n",
        "𝑉\n",
        "(\n",
        "𝑠\n",
        ")\n",
        ")\n",
        "V(s)←V(s)+α(R+γ⋅V(s\n",
        "′\n",
        " )−V(s))\n",
        "𝑉\n",
        "(\n",
        "𝑠\n",
        ")\n",
        "V(s): Current value of the state.\n",
        "𝑅\n",
        "R: Reward received after taking action.\n",
        "𝑉\n",
        "(\n",
        "𝑠\n",
        "′\n",
        ")\n",
        "V(s\n",
        "′\n",
        " ): Value of the next state.\n",
        "𝛼\n",
        "α: Learning rate (how quickly we adapt our estimates).\n",
        "𝛾\n",
        "γ: Discount factor (how much future rewards matter)."
      ],
      "metadata": {
        "id": "URh6OKVg-WJq"
      }
    },
    {
      "cell_type": "code",
      "execution_count": null,
      "metadata": {
        "colab": {
          "base_uri": "https://localhost:8080/"
        },
        "id": "GNk9EWeB34OH",
        "outputId": "457e206c-462d-4367-87f1-5fc752140cda"
      },
      "outputs": [
        {
          "output_type": "stream",
          "name": "stdout",
          "text": [
            "State 1: 0.30\n",
            "State 2: 0.37\n",
            "State 3: 0.49\n",
            "State 4: 0.65\n",
            "State 5: 0.00\n"
          ]
        }
      ],
      "source": [
        "for s in states:\n",
        "    print(f\"State {s}: {state_values[s]:.2f}\")"
      ]
    },
    {
      "cell_type": "markdown",
      "source": [
        "These numbers represent the **state-value function**, which tells us how \"valuable\" it is for the agent to be in each state.\n",
        "\n",
        "\n",
        "1. **State 1: 0.30**\n",
        "   - Being in State 1 has a value of **0.30**. This means the agent expects a relatively low reward in the long run if it starts here.\n",
        "\n",
        "2. **State 2: 0.37**\n",
        "   - State 2 has a slightly higher value of **0.37**, meaning it is marginally better to be here than in State 1.\n",
        "\n",
        "3. **State 3: 0.49**\n",
        "   - State 3 has an even higher value of **0.49**, meaning it’s more rewarding to be here compared to earlier states.\n",
        "\n",
        "4. **State 4: 0.65**\n",
        "   - State 4 has the highest value of **0.65** (other than State 5), so it is the best intermediate state to aim for before reaching the goal.\n",
        "\n",
        "5. **State 5: 0.00**\n",
        "   - This is likely the terminal or goal state where the agent stops. The value is **0.00** because there is no further reward to be gained after reaching here.\n"
      ],
      "metadata": {
        "id": "q8G5_HQqGcZH"
      }
    },
    {
      "cell_type": "code",
      "source": [
        "plt.bar(states, state_values[1:], color='skyblue', edgecolor='black')\n",
        "plt.xlabel(\"States\")\n",
        "plt.ylabel(\"Value\")\n",
        "plt.title(\"Learned State-Value Function using TD(0)\")\n",
        "plt.show()\n",
        "plt.show()\n"
      ],
      "metadata": {
        "colab": {
          "base_uri": "https://localhost:8080/",
          "height": 472
        },
        "id": "TeiGmVI88Ysv",
        "outputId": "e0da955e-3a0a-4bdf-b430-2f2d964ba186"
      },
      "execution_count": null,
      "outputs": [
        {
          "output_type": "display_data",
          "data": {
            "text/plain": [
              "<Figure size 640x480 with 1 Axes>"
            ],
            "image/png": "[encoded data removed]"
          },
          "metadata": {}
        }
      ]
    },
    {
      "cell_type": "markdown",
      "source": [
        "### Explanation:\n",
        "\n",
        "1. **Environment**:\n",
        "   - The agent moves through a 1D grid of 5 states. The terminal state is state 5, which provides a reward of 1. Other states provide no reward.\n",
        "\n",
        "2. **TD(0) Algorithm**:\n",
        "   - The agent learns the value of each state based on the rewards received and the estimated values of subsequent states.\n",
        "   - It updates the value of the current state using the TD update rule:  \n",
        "     \\[\n",
        "     V(s) \\leftarrow V(s) + \\alpha \\cdot \\big[ r + \\gamma \\cdot V(s') - V(s) \\big]\n",
        "     \\]\n",
        "\n",
        "3. **Learning**:\n",
        "   - The agent starts in a random state and moves randomly until it reaches the terminal state.\n",
        "   - The state-value function is updated iteratively over multiple episodes.\n",
        "\n",
        "4. **Visualization**:\n",
        "   - A bar chart shows the learned values for each state after training. States closer to the terminal state (state 5) tend to have higher values due to the discounted reward."
      ],
      "metadata": {
        "id": "OJ4bHCuc9jrJ"
      }
    }
  ]
}