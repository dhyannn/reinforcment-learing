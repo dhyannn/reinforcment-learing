{
  "nbformat": 4,
  "nbformat_minor": 0,
  "metadata": {
    "colab": {
      "provenance": [],
      "authorship_tag": "ABX9TyPgKdkVemisLAVpHrBPfH3n",
      "include_colab_link": true
    },
    "kernelspec": {
      "name": "python3",
      "display_name": "Python 3"
    },
    "language_info": {
      "name": "python"
    }
  },
  "cells": [
    {
      "cell_type": "markdown",
      "metadata": {
        "id": "view-in-github",
        "colab_type": "text"
      },
      "source": [
        "<a href=\"https://colab.research.google.com/github/dhyannn/reinforcment-learing/blob/main/514_RLlab6.ipynb\" target=\"_parent\"><img src=\"https://colab.research.google.com/assets/colab-badge.svg\" alt=\"Open In Colab\"/></a>"
      ]
    },
    {
      "cell_type": "code",
      "execution_count": null,
      "metadata": {
        "colab": {
          "base_uri": "https://localhost:8080/"
        },
        "id": "UStsKiBqBDe8",
        "outputId": "b11ec473-97bd-489b-9b72-854fa890f631"
      },
      "outputs": [
        {
          "output_type": "stream",
          "name": "stdout",
          "text": [
            "[[ 2.  0.  0.  0.  0.]\n",
            " [ 0.  0.  0.  0.  0.]\n",
            " [ 0.  0. -1.  0.  0.]\n",
            " [ 0.  0.  0.  0.  0.]\n",
            " [ 0.  0.  0.  0.  1.]]\n",
            "State: (0, 1) Reward: 0 Done: False\n"
          ]
        }
      ],
      "source": [
        "import numpy as np\n",
        "\n",
        "class GridworldEnv:\n",
        "    def __init__(self, grid_size=(5, 5), goal=(4, 4), obstacles=[]):\n",
        "        self.grid_size = grid_size\n",
        "        self.goal = goal\n",
        "        self.obstacles = obstacles\n",
        "        self.state = (0, 0)  # Starting position\n",
        "\n",
        "    def reset(self):\n",
        "        self.state = (0, 0)\n",
        "        return self.state\n",
        "\n",
        "    def step(self, action):\n",
        "        x, y = self.state\n",
        "        if action == 'up': x -= 1\n",
        "        elif action == 'down': x += 1\n",
        "        elif action == 'left': y -= 1\n",
        "        elif action == 'right': y += 1\n",
        "\n",
        "        # Check boundaries\n",
        "        x = max(0, min(self.grid_size[0] - 1, x))\n",
        "        y = max(0, min(self.grid_size[1] - 1, y))\n",
        "\n",
        "        new_state = (x, y)\n",
        "        reward = 1 if new_state == self.goal else -1 if new_state in self.obstacles else 0\n",
        "        done = new_state == self.goal\n",
        "\n",
        "        self.state = new_state\n",
        "        return new_state, reward, done\n",
        "\n",
        "    def render(self):\n",
        "        grid = np.zeros(self.grid_size)\n",
        "        grid[self.goal] = 1\n",
        "        for obs in self.obstacles:\n",
        "            grid[obs] = -1\n",
        "        x, y = self.state\n",
        "        grid[x, y] = 2  # Agent position\n",
        "        print(grid)\n",
        "\n",
        "# Test Environment\n",
        "env = GridworldEnv(obstacles=[(2, 2)])\n",
        "state = env.reset()\n",
        "env.render()\n",
        "\n",
        "state, reward, done = env.step('right')\n",
        "print(\"State:\", state, \"Reward:\", reward, \"Done:\", done)\n"
      ]
    },
    {
      "cell_type": "code",
      "source": [
        "def value_iteration(env, gamma=0.9, theta=1e-6):\n",
        "    states = [(x, y) for x in range(env.grid_size[0]) for y in range(env.grid_size[1])]\n",
        "    actions = ['up', 'down', 'left', 'right']\n",
        "    V = {state: 0 for state in states}\n",
        "\n",
        "    while True:\n",
        "        delta = 0\n",
        "        for state in states:\n",
        "            if state == env.goal: continue\n",
        "            v = V[state]\n",
        "            V[state] = max(\n",
        "                sum(\n",
        "                    0.8 * (reward + gamma * V[next_state])  # Transition with 80% prob\n",
        "                    for action in actions\n",
        "                )\n",
        "            )\n",
        "            delta = max(delta, abs(v - V[state]))\n",
        "        if delta < theta:\n",
        "            break\n",
        "    return V"
      ],
      "metadata": {
        "id": "dhE2Ue-uCDQd"
      },
      "execution_count": null,
      "outputs": []
    },
    {
      "cell_type": "code",
      "source": [],
      "metadata": {
        "id": "RvnURBCsJq7R"
      },
      "execution_count": null,
      "outputs": []
    }
  ]
}